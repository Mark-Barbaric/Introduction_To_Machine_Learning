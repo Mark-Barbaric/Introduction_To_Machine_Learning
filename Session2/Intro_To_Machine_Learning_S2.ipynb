{
  "nbformat": 4,
  "nbformat_minor": 0,
  "metadata": {
    "kernelspec": {
      "display_name": "Python 3",
      "language": "python",
      "name": "python3"
    },
    "language_info": {
      "codemirror_mode": {
        "name": "ipython",
        "version": 3
      },
      "file_extension": ".py",
      "mimetype": "text/x-python",
      "name": "python",
      "nbconvert_exporter": "python",
      "pygments_lexer": "ipython3",
      "version": "3.6.5"
    },
    "colab": {
      "name": "Intro_To_Machine_Learning_S2",
      "provenance": [],
      "collapsed_sections": [],
      "include_colab_link": true
    }
  },
  "cells": [
    {
      "cell_type": "markdown",
      "metadata": {
        "id": "view-in-github",
        "colab_type": "text"
      },
      "source": [
        "<a href=\"https://colab.research.google.com/github/Mark-Barbaric/Introduction_To_Machine_Learning/blob/master/Session2/Intro_To_Machine_Learning_S2.ipynb\" target=\"_parent\"><img src=\"https://colab.research.google.com/assets/colab-badge.svg\" alt=\"Open In Colab\"/></a>"
      ]
    },
    {
      "cell_type": "markdown",
      "metadata": {
        "id": "_CfnvjmwLxU5",
        "colab_type": "text"
      },
      "source": [
        "# Session 2 - Regression methods "
      ]
    },
    {
      "cell_type": "code",
      "metadata": {
        "id": "bYaYoCNvfu9O",
        "colab_type": "code",
        "colab": {}
      },
      "source": [
        ""
      ],
      "execution_count": 0,
      "outputs": []
    },
    {
      "cell_type": "code",
      "metadata": {
        "id": "9ZqjOPfGLxU6",
        "colab_type": "code",
        "colab": {}
      },
      "source": [
        "#importing relevant modules \n",
        "import numpy as np\n",
        "import matplotlib.pyplot as plt\n",
        "import pandas as pd \n",
        "\n",
        "from sklearn import datasets, linear_model\n",
        "from sklearn.metrics import mean_squared_error, r2_score\n",
        "from sklearn.model_selection import train_test_split\n",
        "%matplotlib inline "
      ],
      "execution_count": 0,
      "outputs": []
    },
    {
      "cell_type": "markdown",
      "metadata": {
        "id": "cTRQqKqrLxU9",
        "colab_type": "text"
      },
      "source": [
        "## 2.1 - Linear regression"
      ]
    },
    {
      "cell_type": "code",
      "metadata": {
        "id": "2qIo8h41LxU9",
        "colab_type": "code",
        "outputId": "ad0ff942-5153-4274-bf06-f144cc9c2d4d",
        "colab": {
          "base_uri": "https://localhost:8080/",
          "height": 1000
        }
      },
      "source": [
        "# Load the diabetes dataset\n",
        "diabetes = datasets.load_diabetes()\n",
        "diabetes"
      ],
      "execution_count": 0,
      "outputs": [
        {
          "output_type": "execute_result",
          "data": {
            "text/plain": [
              "{'DESCR': '.. _diabetes_dataset:\\n\\nDiabetes dataset\\n----------------\\n\\nTen baseline variables, age, sex, body mass index, average blood\\npressure, and six blood serum measurements were obtained for each of n =\\n442 diabetes patients, as well as the response of interest, a\\nquantitative measure of disease progression one year after baseline.\\n\\n**Data Set Characteristics:**\\n\\n  :Number of Instances: 442\\n\\n  :Number of Attributes: First 10 columns are numeric predictive values\\n\\n  :Target: Column 11 is a quantitative measure of disease progression one year after baseline\\n\\n  :Attribute Information:\\n      - Age\\n      - Sex\\n      - Body mass index\\n      - Average blood pressure\\n      - S1\\n      - S2\\n      - S3\\n      - S4\\n      - S5\\n      - S6\\n\\nNote: Each of these 10 feature variables have been mean centered and scaled by the standard deviation times `n_samples` (i.e. the sum of squares of each column totals 1).\\n\\nSource URL:\\nhttps://www4.stat.ncsu.edu/~boos/var.select/diabetes.html\\n\\nFor more information see:\\nBradley Efron, Trevor Hastie, Iain Johnstone and Robert Tibshirani (2004) \"Least Angle Regression,\" Annals of Statistics (with discussion), 407-499.\\n(https://web.stanford.edu/~hastie/Papers/LARS/LeastAngle_2002.pdf)',\n",
              " 'data': array([[ 0.03807591,  0.05068012,  0.06169621, ..., -0.00259226,\n",
              "          0.01990842, -0.01764613],\n",
              "        [-0.00188202, -0.04464164, -0.05147406, ..., -0.03949338,\n",
              "         -0.06832974, -0.09220405],\n",
              "        [ 0.08529891,  0.05068012,  0.04445121, ..., -0.00259226,\n",
              "          0.00286377, -0.02593034],\n",
              "        ...,\n",
              "        [ 0.04170844,  0.05068012, -0.01590626, ..., -0.01107952,\n",
              "         -0.04687948,  0.01549073],\n",
              "        [-0.04547248, -0.04464164,  0.03906215, ...,  0.02655962,\n",
              "          0.04452837, -0.02593034],\n",
              "        [-0.04547248, -0.04464164, -0.0730303 , ..., -0.03949338,\n",
              "         -0.00421986,  0.00306441]]),\n",
              " 'data_filename': '/usr/local/lib/python3.6/dist-packages/sklearn/datasets/data/diabetes_data.csv.gz',\n",
              " 'feature_names': ['age',\n",
              "  'sex',\n",
              "  'bmi',\n",
              "  'bp',\n",
              "  's1',\n",
              "  's2',\n",
              "  's3',\n",
              "  's4',\n",
              "  's5',\n",
              "  's6'],\n",
              " 'target': array([151.,  75., 141., 206., 135.,  97., 138.,  63., 110., 310., 101.,\n",
              "         69., 179., 185., 118., 171., 166., 144.,  97., 168.,  68.,  49.,\n",
              "         68., 245., 184., 202., 137.,  85., 131., 283., 129.,  59., 341.,\n",
              "         87.,  65., 102., 265., 276., 252.,  90., 100.,  55.,  61.,  92.,\n",
              "        259.,  53., 190., 142.,  75., 142., 155., 225.,  59., 104., 182.,\n",
              "        128.,  52.,  37., 170., 170.,  61., 144.,  52., 128.,  71., 163.,\n",
              "        150.,  97., 160., 178.,  48., 270., 202., 111.,  85.,  42., 170.,\n",
              "        200., 252., 113., 143.,  51.,  52., 210.,  65., 141.,  55., 134.,\n",
              "         42., 111.,  98., 164.,  48.,  96.,  90., 162., 150., 279.,  92.,\n",
              "         83., 128., 102., 302., 198.,  95.,  53., 134., 144., 232.,  81.,\n",
              "        104.,  59., 246., 297., 258., 229., 275., 281., 179., 200., 200.,\n",
              "        173., 180.,  84., 121., 161.,  99., 109., 115., 268., 274., 158.,\n",
              "        107.,  83., 103., 272.,  85., 280., 336., 281., 118., 317., 235.,\n",
              "         60., 174., 259., 178., 128.,  96., 126., 288.,  88., 292.,  71.,\n",
              "        197., 186.,  25.,  84.,  96., 195.,  53., 217., 172., 131., 214.,\n",
              "         59.,  70., 220., 268., 152.,  47.,  74., 295., 101., 151., 127.,\n",
              "        237., 225.,  81., 151., 107.,  64., 138., 185., 265., 101., 137.,\n",
              "        143., 141.,  79., 292., 178.,  91., 116.,  86., 122.,  72., 129.,\n",
              "        142.,  90., 158.,  39., 196., 222., 277.,  99., 196., 202., 155.,\n",
              "         77., 191.,  70.,  73.,  49.,  65., 263., 248., 296., 214., 185.,\n",
              "         78.,  93., 252., 150.,  77., 208.,  77., 108., 160.,  53., 220.,\n",
              "        154., 259.,  90., 246., 124.,  67.,  72., 257., 262., 275., 177.,\n",
              "         71.,  47., 187., 125.,  78.,  51., 258., 215., 303., 243.,  91.,\n",
              "        150., 310., 153., 346.,  63.,  89.,  50.,  39., 103., 308., 116.,\n",
              "        145.,  74.,  45., 115., 264.,  87., 202., 127., 182., 241.,  66.,\n",
              "         94., 283.,  64., 102., 200., 265.,  94., 230., 181., 156., 233.,\n",
              "         60., 219.,  80.,  68., 332., 248.,  84., 200.,  55.,  85.,  89.,\n",
              "         31., 129.,  83., 275.,  65., 198., 236., 253., 124.,  44., 172.,\n",
              "        114., 142., 109., 180., 144., 163., 147.,  97., 220., 190., 109.,\n",
              "        191., 122., 230., 242., 248., 249., 192., 131., 237.,  78., 135.,\n",
              "        244., 199., 270., 164.,  72.,  96., 306.,  91., 214.,  95., 216.,\n",
              "        263., 178., 113., 200., 139., 139.,  88., 148.,  88., 243.,  71.,\n",
              "         77., 109., 272.,  60.,  54., 221.,  90., 311., 281., 182., 321.,\n",
              "         58., 262., 206., 233., 242., 123., 167.,  63., 197.,  71., 168.,\n",
              "        140., 217., 121., 235., 245.,  40.,  52., 104., 132.,  88.,  69.,\n",
              "        219.,  72., 201., 110.,  51., 277.,  63., 118.,  69., 273., 258.,\n",
              "         43., 198., 242., 232., 175.,  93., 168., 275., 293., 281.,  72.,\n",
              "        140., 189., 181., 209., 136., 261., 113., 131., 174., 257.,  55.,\n",
              "         84.,  42., 146., 212., 233.,  91., 111., 152., 120.,  67., 310.,\n",
              "         94., 183.,  66., 173.,  72.,  49.,  64.,  48., 178., 104., 132.,\n",
              "        220.,  57.]),\n",
              " 'target_filename': '/usr/local/lib/python3.6/dist-packages/sklearn/datasets/data/diabetes_target.csv.gz'}"
            ]
          },
          "metadata": {
            "tags": []
          },
          "execution_count": 2
        }
      ]
    },
    {
      "cell_type": "code",
      "metadata": {
        "id": "PQLbh2qvLxVA",
        "colab_type": "code",
        "outputId": "7602e6d2-03df-41ec-8984-5d6c717370c9",
        "colab": {
          "base_uri": "https://localhost:8080/",
          "height": 34
        }
      },
      "source": [
        "type(diabetes)"
      ],
      "execution_count": 0,
      "outputs": [
        {
          "output_type": "execute_result",
          "data": {
            "text/plain": [
              "sklearn.utils.Bunch"
            ]
          },
          "metadata": {
            "tags": []
          },
          "execution_count": 5
        }
      ]
    },
    {
      "cell_type": "markdown",
      "metadata": {
        "id": "GaYs0QOfLxVC",
        "colab_type": "text"
      },
      "source": [
        "The data we loaded has a dictionary structure. If you haven't met dictionaries, please look at the information below. \n",
        "\n",
        "\n",
        "\n",
        "### _Dictionaries_ <br>\n",
        "The third most common collection type used in Python is the Dictionary, or dict, which store mappings from keys to values. For every key, there is a value. Unlike lists and tuples, dicts do not preserve the order of the objects in the collection, and rather than the accessing the contents with indices, they are accessed with keys. Values can be any Python object, keys are usually strings, but it is possible to use certain other objects as keys. Dictionary literals are written as a comma-separated list of key:value pairs, with a colon separating key from value, surrounded by (curly) braces. Dict items are accessed using the same square bracket notation as for lists and tuples, but with a key instead of an integer index.<br>\n",
        "\n",
        "```python\n",
        "student_grades = {\"Simon\": 60, \"Jenny\":68, \"Laura\":112}\n",
        "student_grades[\"Simon\"] += 6  # Extra credit\n",
        "student_grades[\"Laura\"] = 100 # Cap\n",
        "student_grades[\"Pug\"] = 58    # New student!\n",
        "print(student_grades[\"Jenny\"])\n",
        "68\n",
        "```\n",
        "<br>\n",
        "<b>\n",
        "\n",
        "    \n"
      ]
    },
    {
      "cell_type": "markdown",
      "metadata": {
        "id": "-Rhir9h_LxVD",
        "colab_type": "text"
      },
      "source": [
        "** Now select the key \"data\" from diabetes. In a seperate variable, select the \"target\" key. Throughout, remember to select meaningful variable names. Have a look at the description given in the diabetes dictionary, and then from your variable created from the key \"data\", select the columns Age and Body Mass Index (Hint: they are listed in the order they appear in the list. So, select for instance the first column and all the rows in that column etc.). You can use the lines below as a start, if you want  ** "
      ]
    },
    {
      "cell_type": "code",
      "metadata": {
        "id": "K7KmAB4CLxVE",
        "colab_type": "code",
        "colab": {}
      },
      "source": [
        "x = diabetes[\"data\"][:,[0,2]]\n",
        "y = diabetes[\"target\"]"
      ],
      "execution_count": 0,
      "outputs": []
    },
    {
      "cell_type": "markdown",
      "metadata": {
        "id": "bcLV8eqhLxVG",
        "colab_type": "text"
      },
      "source": [
        "We now need to split the data into training and test data. We could select it based on position, but this is very bad practice. Why? The best way to do it is the below. It creates four separate variables. **Uncomment the line below, and substitute the X and y in the funciton with your X and y variables. The random state can be any number you want, it only means it is replicable. What do you think test_size is? If it's unclear, have a look at the documentation for the function by googling scikit learn train_test_split **"
      ]
    },
    {
      "cell_type": "code",
      "metadata": {
        "id": "O37Kuh2qLxVG",
        "colab_type": "code",
        "colab": {}
      },
      "source": [
        "x_train, x_test, y_train, y_test  = train_test_split(x, y, random_state=0, test_size = 0.7)"
      ],
      "execution_count": 0,
      "outputs": []
    },
    {
      "cell_type": "markdown",
      "metadata": {
        "id": "YgfegHJwLxVJ",
        "colab_type": "text"
      },
      "source": [
        "Now we are ready to build our regression model. **Change the variable names in the code below to what you called your variables.** "
      ]
    },
    {
      "cell_type": "markdown",
      "metadata": {
        "id": "17X88jtTRd_k",
        "colab_type": "text"
      },
      "source": [
        ""
      ]
    },
    {
      "cell_type": "code",
      "metadata": {
        "id": "KV84Zjg4LxVK",
        "colab_type": "code",
        "outputId": "997b0fdd-6212-43fe-fe87-f03e40ef378c",
        "colab": {
          "base_uri": "https://localhost:8080/",
          "height": 85
        }
      },
      "source": [
        "# Create linear regression object\n",
        "regr = linear_model.LinearRegression()\n",
        "\n",
        "# Train the model using the training sets\n",
        "# Calculate the linear regression based on the data in the training set\n",
        "regr.fit(x_train, y_train)\n",
        "\n",
        "# Make predictions using the testing set\n",
        "# Try that calculated line in the test set, based on that try to get the 'y' giving the x as input\n",
        "# which would the y values for that x based on the model I've built\n",
        "diabetes_y_pred = regr.predict(x_test)\n",
        "\n",
        "# The coefficients\n",
        "print('Coefficients: \\n', regr.coef_)\n",
        "# The mean squared error\n",
        "print(\"Mean squared error: %.2f\"\n",
        "      % mean_squared_error(y_test, diabetes_y_pred))\n",
        "# Explained variance score: 1 is perfect prediction, 0 is random \n",
        "print('Variance score: %.2f' % r2_score(y_test, diabetes_y_pred))\n"
      ],
      "execution_count": 0,
      "outputs": [
        {
          "output_type": "stream",
          "text": [
            "Coefficients: \n",
            " [ 267.24846162 1044.92144978]\n",
            "Mean squared error: 4024.86\n",
            "Variance score: 0.28\n"
          ],
          "name": "stdout"
        }
      ]
    },
    {
      "cell_type": "markdown",
      "metadata": {
        "id": "KpvPDT8oLxVL",
        "colab_type": "text"
      },
      "source": [
        "**Now plot both the data and the linear fit that you've made in one plot. Note that to make several plots in one, you just list them after each other, i.e. one line with plt.plot(x,y1), and a line below with plt.plot(x,y2). Remember that your prediction lives inside the variable diabetes_y_pred. Is it a good fit?** "
      ]
    },
    {
      "cell_type": "markdown",
      "metadata": {
        "id": "PAaXvC3dLxVM",
        "colab_type": "text"
      },
      "source": [
        "## 2.2- Random forest "
      ]
    },
    {
      "cell_type": "markdown",
      "metadata": {
        "id": "i7iHfdKaLxVN",
        "colab_type": "text"
      },
      "source": [
        "** Now run the code below. Is dataframe a good variable name? If not, change it to something better. **"
      ]
    },
    {
      "cell_type": "code",
      "metadata": {
        "id": "9jlomC5wLxVN",
        "colab_type": "code",
        "colab": {}
      },
      "source": [
        "from sklearn import model_selection\n",
        "from sklearn.ensemble import RandomForestClassifier\n",
        "\n",
        "#you can easily get data from urls into python by doing something like the below\n",
        "url = \"https://raw.githubusercontent.com/jbrownlee/Datasets/master/pima-indians-diabetes.data.csv\"\n",
        "#the person who maintains the data above has created documentation, where he listed the following as variable names\n",
        "#I have copied these, so we can set them as column names when we make our panda \n",
        "names = ['preg', 'plas', 'pres', 'skin', 'test', 'mass', 'pedi', 'age', 'class']\n",
        "df = pd.read_csv(url, names=names)\n",
        "#dataframe"
      ],
      "execution_count": 0,
      "outputs": []
    },
    {
      "cell_type": "markdown",
      "metadata": {
        "id": "Zzw2Wnm1LxVP",
        "colab_type": "text"
      },
      "source": [
        "**You'll find people arguing that you don't need to split your data into training and test set. Why do you think they'd argue this? I'll argue it's good practice to split it. Therefore split the data into x and y with training and test sets, just like you did in the linear regression.**"
      ]
    },
    {
      "cell_type": "code",
      "metadata": {
        "id": "i-zj018VLxVQ",
        "colab_type": "code",
        "colab": {}
      },
      "source": [
        ""
      ],
      "execution_count": 0,
      "outputs": []
    },
    {
      "cell_type": "markdown",
      "metadata": {
        "id": "sj23BjD_LxVS",
        "colab_type": "text"
      },
      "source": [
        "** Complete the cell below. Some of it may not be entirely clear - use the documentation for scikitlearn! ** "
      ]
    },
    {
      "cell_type": "code",
      "metadata": {
        "id": "Z6FakC4yLxVT",
        "colab_type": "code",
        "colab": {}
      },
      "source": [
        "#any random number so the randomness can be replicated \n",
        "seed = \n",
        "#how many trees do you want?\n",
        "num_trees = \n",
        "#the number of features considered at each split \n",
        "max_features = \n",
        "\n",
        "#here, we are using a cross validation. \n",
        "kfold = model_selection.KFold(n_splits= , random_state=seed )\n",
        "model = RandomForestClassifier(n_estimators=num_trees, max_features=max_features)\n",
        "results = model_selection.cross_val_score(model, X, Y, cv=kfold)\n",
        "print(results.mean())"
      ],
      "execution_count": 0,
      "outputs": []
    },
    {
      "cell_type": "markdown",
      "metadata": {
        "id": "bu0LA3FoLxVU",
        "colab_type": "text"
      },
      "source": [
        "** If you feel up for a challenge, how would you visualise this? Feel free to use the internet :) **"
      ]
    },
    {
      "cell_type": "markdown",
      "metadata": {
        "id": "dLKLINj-LxVV",
        "colab_type": "text"
      },
      "source": [
        "## 2.3 Boosted decision tree "
      ]
    },
    {
      "cell_type": "code",
      "metadata": {
        "id": "I-4EdJzFLxVW",
        "colab_type": "code",
        "colab": {}
      },
      "source": [
        "from sklearn.ensemble import AdaBoostClassifier\n",
        "from sklearn.tree import DecisionTreeClassifier\n",
        "from sklearn.datasets import make_gaussian_quantiles"
      ],
      "execution_count": 0,
      "outputs": []
    },
    {
      "cell_type": "code",
      "metadata": {
        "id": "ywq7cMk7LxVX",
        "colab_type": "code",
        "outputId": "d7128e49-9532-4a11-8bb5-b441793f638b",
        "colab": {}
      },
      "source": [
        "# This creates a data set we will be using for the example, don't worry too much about this cell \n",
        "X1, y1 = make_gaussian_quantiles(cov=2.,\n",
        "                                 n_samples=200, n_features=2,\n",
        "                                 n_classes=2, random_state=1)\n",
        "X2, y2 = make_gaussian_quantiles(mean=(3, 3), cov=1.5,\n",
        "                                 n_samples=300, n_features=2,\n",
        "                                 n_classes=2, random_state=1)\n",
        "X = np.concatenate((X1, X2))\n",
        "y = np.concatenate((y1, - y2 + 1))\n",
        "\n",
        "y1"
      ],
      "execution_count": 0,
      "outputs": [
        {
          "output_type": "execute_result",
          "data": {
            "text/plain": [
              "array([0, 1, 1, 1, 1, 1, 1, 0, 1, 1, 0, 1, 1, 0, 1, 1, 1, 1, 1, 1, 1, 0,\n",
              "       1, 0, 0, 1, 0, 0, 1, 1, 0, 1, 0, 1, 1, 1, 0, 1, 0, 1, 0, 1, 1, 0,\n",
              "       0, 0, 1, 1, 0, 1, 0, 0, 0, 1, 0, 1, 1, 0, 1, 0, 1, 1, 1, 0, 0, 0,\n",
              "       1, 0, 1, 1, 1, 0, 1, 0, 1, 0, 1, 0, 0, 1, 1, 0, 1, 0, 0, 0, 0, 1,\n",
              "       0, 1, 0, 0, 1, 0, 1, 1, 0, 1, 0, 0, 1, 0, 0, 0, 0, 0, 1, 0, 0, 0,\n",
              "       1, 0, 1, 1, 1, 0, 1, 1, 0, 0, 0, 1, 1, 0, 1, 0, 1, 1, 0, 1, 1, 1,\n",
              "       0, 0, 1, 0, 1, 0, 1, 1, 1, 0, 1, 0, 0, 0, 0, 0, 1, 0, 0, 0, 0, 0,\n",
              "       0, 1, 1, 0, 1, 1, 0, 0, 1, 1, 0, 0, 1, 0, 0, 0, 0, 1, 0, 0, 0, 1,\n",
              "       0, 1, 0, 0, 0, 1, 1, 1, 1, 0, 1, 1, 0, 1, 1, 1, 0, 0, 1, 0, 0, 1,\n",
              "       1, 0])"
            ]
          },
          "metadata": {
            "tags": []
          },
          "execution_count": 30
        }
      ]
    },
    {
      "cell_type": "code",
      "metadata": {
        "id": "p1xPI6FzLxVa",
        "colab_type": "code",
        "outputId": "9b3a040b-f0c7-4857-d7b5-36d8a0e09195",
        "colab": {}
      },
      "source": [
        "# Create and fit an AdaBoosted decision tree\n",
        "bdt = AdaBoostClassifier(DecisionTreeClassifier(max_depth=1),\n",
        "                         algorithm=\"SAMME\",\n",
        "                         n_estimators=200)\n",
        "\n",
        "bdt.fit(X1, y1)"
      ],
      "execution_count": 0,
      "outputs": [
        {
          "output_type": "execute_result",
          "data": {
            "text/plain": [
              "AdaBoostClassifier(algorithm='SAMME',\n",
              "          base_estimator=DecisionTreeClassifier(class_weight=None, criterion='gini', max_depth=1,\n",
              "            max_features=None, max_leaf_nodes=None,\n",
              "            min_impurity_decrease=0.0, min_impurity_split=None,\n",
              "            min_samples_leaf=1, min_samples_split=2,\n",
              "            min_weight_fraction_leaf=0.0, presort=False, random_state=None,\n",
              "            splitter='best'),\n",
              "          learning_rate=1.0, n_estimators=200, random_state=None)"
            ]
          },
          "metadata": {
            "tags": []
          },
          "execution_count": 31
        }
      ]
    },
    {
      "cell_type": "code",
      "metadata": {
        "id": "shKfxAtALxVc",
        "colab_type": "code",
        "outputId": "cf31d277-fc0c-4e70-bb2a-2539eec1128c",
        "colab": {}
      },
      "source": [
        "# now predict on the test set \n",
        "bdt.predict(X2)"
      ],
      "execution_count": 0,
      "outputs": [
        {
          "output_type": "execute_result",
          "data": {
            "text/plain": [
              "array([1, 1, 1, 1, 1, 1, 1, 1, 1, 1, 1, 1, 1, 1, 1, 1, 1, 1, 1, 1, 1, 1,\n",
              "       1, 1, 1, 1, 1, 1, 1, 1, 1, 1, 0, 1, 1, 1, 1, 1, 1, 1, 1, 1, 1, 1,\n",
              "       1, 1, 1, 1, 1, 1, 1, 1, 1, 1, 1, 1, 1, 1, 1, 1, 1, 1, 1, 1, 1, 1,\n",
              "       1, 1, 1, 1, 1, 1, 1, 1, 1, 1, 1, 1, 1, 1, 1, 1, 1, 1, 1, 1, 1, 1,\n",
              "       1, 1, 1, 1, 1, 1, 1, 1, 1, 1, 0, 1, 1, 1, 1, 1, 1, 1, 1, 1, 1, 1,\n",
              "       1, 1, 1, 1, 1, 1, 1, 1, 1, 1, 1, 1, 1, 1, 1, 1, 1, 1, 1, 1, 1, 1,\n",
              "       1, 1, 1, 1, 1, 1, 1, 1, 1, 1, 1, 1, 1, 1, 1, 1, 1, 1, 1, 1, 1, 1,\n",
              "       1, 1, 1, 1, 1, 1, 1, 1, 1, 1, 1, 1, 1, 1, 1, 1, 1, 1, 1, 1, 1, 1,\n",
              "       1, 1, 0, 1, 1, 1, 1, 1, 1, 1, 1, 1, 1, 1, 1, 1, 1, 1, 1, 1, 1, 1,\n",
              "       1, 1, 1, 1, 1, 1, 1, 1, 1, 0, 1, 1, 1, 1, 1, 1, 1, 1, 0, 1, 1, 1,\n",
              "       1, 1, 1, 1, 1, 1, 1, 1, 1, 1, 1, 1, 1, 1, 1, 1, 1, 1, 1, 1, 1, 1,\n",
              "       1, 1, 1, 1, 1, 1, 1, 1, 1, 1, 1, 1, 1, 1, 1, 1, 1, 1, 1, 1, 1, 1,\n",
              "       1, 1, 1, 1, 1, 1, 1, 1, 1, 1, 1, 1, 1, 1, 1, 0, 1, 1, 1, 1, 1, 1,\n",
              "       1, 1, 1, 1, 1, 1, 1, 1, 1, 1, 1, 1, 1, 1])"
            ]
          },
          "metadata": {
            "tags": []
          },
          "execution_count": 33
        }
      ]
    },
    {
      "cell_type": "code",
      "metadata": {
        "id": "OYMOtRdWLxVe",
        "colab_type": "code",
        "outputId": "e2a3f212-d88d-462f-d5f5-7300df236f87",
        "colab": {}
      },
      "source": [
        "#how does this compare do the actual values?\n",
        "y2"
      ],
      "execution_count": 0,
      "outputs": [
        {
          "output_type": "execute_result",
          "data": {
            "text/plain": [
              "array([1, 1, 0, 0, 0, 0, 1, 0, 0, 1, 1, 1, 0, 1, 1, 0, 0, 1, 0, 1, 0, 1,\n",
              "       0, 0, 0, 0, 1, 0, 0, 1, 0, 1, 1, 1, 1, 0, 1, 0, 1, 0, 0, 1, 0, 0,\n",
              "       1, 0, 0, 1, 1, 1, 1, 1, 1, 0, 0, 1, 0, 1, 0, 0, 1, 1, 1, 0, 0, 1,\n",
              "       1, 0, 1, 0, 0, 0, 0, 1, 0, 0, 1, 0, 0, 1, 0, 0, 0, 1, 0, 1, 0, 0,\n",
              "       0, 0, 1, 0, 1, 1, 1, 1, 0, 1, 1, 1, 0, 1, 0, 1, 1, 0, 0, 0, 1, 0,\n",
              "       1, 1, 1, 0, 1, 0, 1, 1, 1, 0, 1, 0, 1, 0, 1, 0, 0, 1, 1, 0, 1, 0,\n",
              "       0, 1, 1, 1, 1, 1, 0, 1, 1, 0, 0, 1, 0, 1, 0, 1, 1, 0, 1, 0, 1, 0,\n",
              "       0, 1, 1, 0, 1, 0, 1, 0, 0, 1, 0, 0, 1, 0, 0, 1, 0, 0, 1, 0, 0, 0,\n",
              "       1, 1, 1, 1, 0, 0, 0, 0, 0, 0, 0, 1, 0, 1, 0, 0, 0, 0, 0, 1, 0, 0,\n",
              "       0, 0, 1, 1, 0, 1, 1, 0, 1, 1, 1, 0, 0, 1, 1, 0, 1, 0, 1, 0, 0, 0,\n",
              "       0, 1, 0, 0, 1, 0, 1, 0, 0, 1, 0, 0, 1, 1, 0, 1, 0, 1, 1, 0, 1, 0,\n",
              "       1, 1, 0, 1, 0, 0, 0, 1, 0, 1, 1, 1, 0, 1, 0, 1, 0, 0, 1, 1, 0, 1,\n",
              "       1, 0, 0, 0, 0, 1, 1, 0, 1, 1, 0, 1, 1, 1, 0, 1, 0, 1, 1, 1, 1, 0,\n",
              "       1, 1, 1, 1, 1, 1, 0, 1, 1, 0, 0, 1, 1, 1])"
            ]
          },
          "metadata": {
            "tags": []
          },
          "execution_count": 34
        }
      ]
    },
    {
      "cell_type": "markdown",
      "metadata": {
        "id": "nhZvxsFYLxVg",
        "colab_type": "text"
      },
      "source": [
        "** Now have a think about how you would visualise the results. Below is some code for doing this. This is a bit more advanced, and don't worry if it isn't quite clear to you what's going on. Play around with the depth and number of estimators given when building the model, and see how this affects the plots. Remember to rerun all the necessary cells to update the predictions after you change the model parameters**"
      ]
    },
    {
      "cell_type": "code",
      "metadata": {
        "id": "tdpqsXLkLxVg",
        "colab_type": "code",
        "outputId": "3b7e7b09-983e-413d-8a67-23203e6c73e2",
        "colab": {}
      },
      "source": [
        "\n",
        "plot_colors = \"br\"\n",
        "plot_step = 0.02\n",
        "class_names = \"AB\"\n",
        "\n",
        "plt.figure(figsize=(10, 5))\n",
        "\n",
        "# Plot the decision boundaries\n",
        "#number of rows, columns, \n",
        "plt.subplot(121)\n",
        "x_min, x_max = X[:, 0].min() - 1, X[:, 0].max() + 1\n",
        "y_min, y_max = X[:, 1].min() - 1, X[:, 1].max() + 1\n",
        "xx, yy = np.meshgrid(np.arange(x_min, x_max, plot_step),\n",
        "                     np.arange(y_min, y_max, plot_step))\n",
        "\n",
        "#np.c stacks arrays, ravel combines to list \n",
        "Z = bdt.predict(np.c_[xx.ravel(), yy.ravel()])\n",
        "Z = Z.reshape(xx.shape)\n",
        "cs = plt.contourf(xx, yy, Z, cmap=plt.cm.Paired)\n",
        "plt.axis(\"tight\")\n",
        "\n",
        "# Plot the training points\n",
        "for i, n, c in zip(range(2), class_names, plot_colors):\n",
        "    idx = np.where(y == i)\n",
        "    plt.scatter(X[idx, 0], X[idx, 1],\n",
        "                c=c, cmap=plt.cm.Paired,\n",
        "                s=20, edgecolor='k',\n",
        "                label=\"Class %s\" % n)\n",
        "plt.xlim(x_min, x_max)\n",
        "plt.ylim(y_min, y_max)\n",
        "plt.legend(loc='upper right')\n",
        "plt.xlabel('x')\n",
        "plt.ylabel('y')\n",
        "plt.title('Decision Boundary')\n",
        "\n",
        "# Plot the two-class decision scores\n",
        "twoclass_output = bdt.decision_function(X)\n",
        "plot_range = (twoclass_output.min(), twoclass_output.max())\n",
        "plt.subplot(122)\n",
        "for i, n, c in zip(range(2), class_names, plot_colors):\n",
        "    plt.hist(twoclass_output[y == i],\n",
        "             bins=10,\n",
        "             range=plot_range,\n",
        "             facecolor=c,\n",
        "             label='Class %s' % n,\n",
        "             alpha=.5,\n",
        "             edgecolor='k')\n",
        "x1, x2, y1, y2 = plt.axis()\n",
        "plt.axis((x1, x2, y1, y2 * 1.2))\n",
        "plt.legend(loc='upper right')\n",
        "plt.ylabel('Samples')\n",
        "plt.xlabel('Score')\n",
        "plt.title('Decision Scores')\n",
        "\n",
        "plt.tight_layout()\n",
        "plt.subplots_adjust(wspace=0.35)\n",
        "plt.show()"
      ],
      "execution_count": 0,
      "outputs": [
        {
          "output_type": "display_data",
          "data": {
            "image/png": "[encoded data removed]",
            "text/plain": [
              "<Figure size 720x360 with 2 Axes>"
            ]
          },
          "metadata": {
            "tags": []
          }
        }
      ]
    },
    {
      "cell_type": "markdown",
      "metadata": {
        "id": "TEO3qfgTLxVi",
        "colab_type": "text"
      },
      "source": [
        "** All done? Fantastic work! Now choose a data set and play with and compare these models. ** "
      ]
    },
    {
      "cell_type": "code",
      "metadata": {
        "id": "Xa5_hMkfLxVj",
        "colab_type": "code",
        "colab": {}
      },
      "source": [
        ""
      ],
      "execution_count": 0,
      "outputs": []
    }
  ]
}